{
 "cells": [
  {
   "cell_type": "code",
   "execution_count": 1,
   "metadata": {},
   "outputs": [],
   "source": [
    "import pandas as pd"
   ]
  },
  {
   "cell_type": "code",
   "execution_count": 2,
   "metadata": {},
   "outputs": [
    {
     "name": "stdout",
     "output_type": "stream",
     "text": [
      "RILM scatterplot.ipynb  country_data.csv        graph.json\r\n",
      "Untitled.ipynb          factbook.csv            merged.csv\r\n",
      "accessions.csv          gdp_accessions.csv\r\n",
      "cc.csv                  geojson_practice.json\r\n"
     ]
    }
   ],
   "source": [
    "ls"
   ]
  },
  {
   "cell_type": "code",
   "execution_count": 25,
   "metadata": {},
   "outputs": [
    {
     "data": {
      "text/html": [
       "<div>\n",
       "<style scoped>\n",
       "    .dataframe tbody tr th:only-of-type {\n",
       "        vertical-align: middle;\n",
       "    }\n",
       "\n",
       "    .dataframe tbody tr th {\n",
       "        vertical-align: top;\n",
       "    }\n",
       "\n",
       "    .dataframe thead th {\n",
       "        text-align: right;\n",
       "    }\n",
       "</style>\n",
       "<table border=\"1\" class=\"dataframe\">\n",
       "  <thead>\n",
       "    <tr style=\"text-align: right;\">\n",
       "      <th></th>\n",
       "      <th>Unnamed: 0</th>\n",
       "      <th>Unnamed: 0.1</th>\n",
       "      <th>name</th>\n",
       "      <th>count</th>\n",
       "      <th>code</th>\n",
       "      <th>per capita GDP</th>\n",
       "      <th>pop</th>\n",
       "      <th>continent</th>\n",
       "    </tr>\n",
       "  </thead>\n",
       "  <tbody>\n",
       "    <tr>\n",
       "      <td>0</td>\n",
       "      <td>0</td>\n",
       "      <td>0</td>\n",
       "      <td>Afghanistan</td>\n",
       "      <td>NaN</td>\n",
       "      <td>AFG</td>\n",
       "      <td>800.0</td>\n",
       "      <td>29928987.0</td>\n",
       "      <td>Asia</td>\n",
       "    </tr>\n",
       "    <tr>\n",
       "      <td>1</td>\n",
       "      <td>1</td>\n",
       "      <td>1</td>\n",
       "      <td>Albania</td>\n",
       "      <td>41.0</td>\n",
       "      <td>ALB</td>\n",
       "      <td>4900.0</td>\n",
       "      <td>3563112.0</td>\n",
       "      <td>Europe</td>\n",
       "    </tr>\n",
       "    <tr>\n",
       "      <td>2</td>\n",
       "      <td>2</td>\n",
       "      <td>2</td>\n",
       "      <td>Algeria</td>\n",
       "      <td>16.0</td>\n",
       "      <td>DZA</td>\n",
       "      <td>6600.0</td>\n",
       "      <td>32531853.0</td>\n",
       "      <td>Africa</td>\n",
       "    </tr>\n",
       "    <tr>\n",
       "      <td>3</td>\n",
       "      <td>3</td>\n",
       "      <td>3</td>\n",
       "      <td>American Samoa</td>\n",
       "      <td>NaN</td>\n",
       "      <td>ASM</td>\n",
       "      <td>8000.0</td>\n",
       "      <td>57881.0</td>\n",
       "      <td>Oceania</td>\n",
       "    </tr>\n",
       "    <tr>\n",
       "      <td>4</td>\n",
       "      <td>4</td>\n",
       "      <td>4</td>\n",
       "      <td>Andorra</td>\n",
       "      <td>NaN</td>\n",
       "      <td>AND</td>\n",
       "      <td>26800.0</td>\n",
       "      <td>70549.0</td>\n",
       "      <td>Europe</td>\n",
       "    </tr>\n",
       "  </tbody>\n",
       "</table>\n",
       "</div>"
      ],
      "text/plain": [
       "   Unnamed: 0  Unnamed: 0.1            name  count code  per capita GDP  \\\n",
       "0           0             0     Afghanistan    NaN  AFG           800.0   \n",
       "1           1             1         Albania   41.0  ALB          4900.0   \n",
       "2           2             2         Algeria   16.0  DZA          6600.0   \n",
       "3           3             3  American Samoa    NaN  ASM          8000.0   \n",
       "4           4             4         Andorra    NaN  AND         26800.0   \n",
       "\n",
       "          pop continent  \n",
       "0  29928987.0      Asia  \n",
       "1   3563112.0    Europe  \n",
       "2  32531853.0    Africa  \n",
       "3     57881.0   Oceania  \n",
       "4     70549.0    Europe  "
      ]
     },
     "execution_count": 25,
     "metadata": {},
     "output_type": "execute_result"
    }
   ],
   "source": [
    "df = pd.read_csv(\"merged.csv\")\n",
    "df.head()"
   ]
  },
  {
   "cell_type": "markdown",
   "metadata": {},
   "source": [
    " {\"id\": \"Myriel\",\"group\": 1}"
   ]
  },
  {
   "cell_type": "code",
   "execution_count": 18,
   "metadata": {},
   "outputs": [],
   "source": [
    "df = df.fillna(0)"
   ]
  },
  {
   "cell_type": "code",
   "execution_count": 26,
   "metadata": {},
   "outputs": [
    {
     "ename": "NameError",
     "evalue": "name 'continent' is not defined",
     "output_type": "error",
     "traceback": [
      "\u001b[0;31m---------------------------------------------------------------------------\u001b[0m",
      "\u001b[0;31mNameError\u001b[0m                                 Traceback (most recent call last)",
      "\u001b[0;32m<ipython-input-26-71fbd9c7b264>\u001b[0m in \u001b[0;36m<module>\u001b[0;34m\u001b[0m\n\u001b[1;32m      3\u001b[0m     \u001b[0mgdp\u001b[0m \u001b[0;34m=\u001b[0m \u001b[0mdf\u001b[0m\u001b[0;34m.\u001b[0m\u001b[0miloc\u001b[0m\u001b[0;34m[\u001b[0m\u001b[0mi\u001b[0m\u001b[0;34m,\u001b[0m\u001b[0;36m5\u001b[0m\u001b[0;34m]\u001b[0m\u001b[0;34m\u001b[0m\u001b[0;34m\u001b[0m\u001b[0m\n\u001b[1;32m      4\u001b[0m     \u001b[0mcont\u001b[0m \u001b[0;34m=\u001b[0m \u001b[0mdf\u001b[0m\u001b[0;34m.\u001b[0m\u001b[0miloc\u001b[0m\u001b[0;34m[\u001b[0m\u001b[0mi\u001b[0m\u001b[0;34m,\u001b[0m\u001b[0;36m7\u001b[0m\u001b[0;34m]\u001b[0m\u001b[0;34m\u001b[0m\u001b[0;34m\u001b[0m\u001b[0m\n\u001b[0;32m----> 5\u001b[0;31m     \u001b[0mprint\u001b[0m\u001b[0;34m(\u001b[0m\u001b[0;34m'{\"id\": \"'\u001b[0m\u001b[0;34m+\u001b[0m\u001b[0mname\u001b[0m\u001b[0;34m+\u001b[0m\u001b[0;34m'\",\"group\": 1, \"gdp\": '\u001b[0m\u001b[0;34m+\u001b[0m \u001b[0mstr\u001b[0m\u001b[0;34m(\u001b[0m\u001b[0mgdp\u001b[0m\u001b[0;34m)\u001b[0m \u001b[0;34m+\u001b[0m\u001b[0;34m',\"gdp\": '\u001b[0m\u001b[0;34m+\u001b[0m \u001b[0mstr\u001b[0m\u001b[0;34m(\u001b[0m\u001b[0mcontinent\u001b[0m\u001b[0;34m)\u001b[0m \u001b[0;34m+\u001b[0m\u001b[0;34m'},'\u001b[0m\u001b[0;34m)\u001b[0m\u001b[0;34m\u001b[0m\u001b[0;34m\u001b[0m\u001b[0m\n\u001b[0m",
      "\u001b[0;31mNameError\u001b[0m: name 'continent' is not defined"
     ]
    }
   ],
   "source": [
    "for i in range(300):\n",
    "    name = df.iloc[i,2]\n",
    "    gdp = df.iloc[i,5]\n",
    "    cont = df.iloc[i,7]\n",
    "    print('{\"id\": \"'+name+'\",\"group\": 1, \"gdp\": '+ str(gdp) +',\"gdp\": '+ str(cont) +'},')"
   ]
  },
  {
   "cell_type": "markdown",
   "metadata": {},
   "source": [
    "{\"source\": \"American Samoa\",\"target\": \"RILM\",\"value\": 8}"
   ]
  },
  {
   "cell_type": "code",
   "execution_count": 21,
   "metadata": {},
   "outputs": [
    {
     "name": "stdout",
     "output_type": "stream",
     "text": [
      "{\"source\": \"Albania\",\"target\": \"RILM\", \"value\": 41.0},\n",
      "{\"source\": \"Algeria\",\"target\": \"RILM\", \"value\": 16.0},\n",
      "{\"source\": \"Argentina\",\"target\": \"RILM\", \"value\": 1943.0},\n",
      "{\"source\": \"Armenia\",\"target\": \"RILM\", \"value\": 193.0},\n",
      "{\"source\": \"Australia\",\"target\": \"RILM\", \"value\": 6245.0},\n",
      "{\"source\": \"Austria\",\"target\": \"RILM\", \"value\": 21916.0},\n",
      "{\"source\": \"Azerbaijan\",\"target\": \"RILM\", \"value\": 397.0},\n",
      "{\"source\": \"Bahamas\",\"target\": \"RILM\", \"value\": 1.0},\n",
      "{\"source\": \"Bahrain\",\"target\": \"RILM\", \"value\": 1.0},\n",
      "{\"source\": \"Bangladesh\",\"target\": \"RILM\", \"value\": 12.0},\n",
      "{\"source\": \"Barbados\",\"target\": \"RILM\", \"value\": 2.0},\n",
      "{\"source\": \"Belarus\",\"target\": \"RILM\", \"value\": 276.0},\n",
      "{\"source\": \"Belgium\",\"target\": \"RILM\", \"value\": 9829.0},\n",
      "{\"source\": \"Belize\",\"target\": \"RILM\", \"value\": 1.0},\n",
      "{\"source\": \"Benin\",\"target\": \"RILM\", \"value\": 1.0},\n",
      "{\"source\": \"Bolivia\",\"target\": \"RILM\", \"value\": 25.0},\n",
      "{\"source\": \"Bosnia & Herzegovina\",\"target\": \"RILM\", \"value\": 2713.0},\n",
      "{\"source\": \"Bosnia and Herzegovina\",\"target\": \"RILM\", \"value\": 2713.0},\n",
      "{\"source\": \"Botswana\",\"target\": \"RILM\", \"value\": 4.0},\n",
      "{\"source\": \"Brazil\",\"target\": \"RILM\", \"value\": 7809.0},\n",
      "{\"source\": \"Bulgaria\",\"target\": \"RILM\", \"value\": 1213.0},\n",
      "{\"source\": \"Burkina Faso\",\"target\": \"RILM\", \"value\": 1.0},\n",
      "{\"source\": \"Canada\",\"target\": \"RILM\", \"value\": 12307.0},\n",
      "{\"source\": \"Cape Verde\",\"target\": \"RILM\", \"value\": 1.0},\n",
      "{\"source\": \"Chile\",\"target\": \"RILM\", \"value\": 1998.0},\n",
      "{\"source\": \"China\",\"target\": \"RILM\", \"value\": 30069.0},\n",
      "{\"source\": \"Colombia\",\"target\": \"RILM\", \"value\": 479.0},\n",
      "{\"source\": \"Congo\",\"target\": \"RILM\", \"value\": 1.0},\n",
      "{\"source\": \"Congo, The Democratic Republic of the\",\"target\": \"RILM\", \"value\": 3.0},\n",
      "{\"source\": \"Cook Islands\",\"target\": \"RILM\", \"value\": 2.0},\n",
      "{\"source\": \"Costa Rica\",\"target\": \"RILM\", \"value\": 78.0},\n",
      "{\"source\": \"Cote d’Ivoire\",\"target\": \"RILM\", \"value\": 1.0},\n",
      "{\"source\": \"Croatia\",\"target\": \"RILM\", \"value\": 11765.0},\n",
      "{\"source\": \"Cuba\",\"target\": \"RILM\", \"value\": 738.0},\n",
      "{\"source\": \"Cyprus\",\"target\": \"RILM\", \"value\": 11.0},\n",
      "{\"source\": \"Czech Republic\",\"target\": \"RILM\", \"value\": 13319.0},\n",
      "{\"source\": \"Democratic Republic of the Congo\",\"target\": \"RILM\", \"value\": 3.0},\n",
      "{\"source\": \"Denmark\",\"target\": \"RILM\", \"value\": 6202.0},\n",
      "{\"source\": \"Dominican Republic\",\"target\": \"RILM\", \"value\": 75.0},\n",
      "{\"source\": \"Ecuador\",\"target\": \"RILM\", \"value\": 26.0},\n",
      "{\"source\": \"Egypt\",\"target\": \"RILM\", \"value\": 81.0},\n",
      "{\"source\": \"El Salvador\",\"target\": \"RILM\", \"value\": 6.0},\n",
      "{\"source\": \"Equatorial Guinea\",\"target\": \"RILM\", \"value\": 1.0},\n",
      "{\"source\": \"Estonia\",\"target\": \"RILM\", \"value\": 2161.0},\n",
      "{\"source\": \"Ethiopia\",\"target\": \"RILM\", \"value\": 1.0},\n",
      "{\"source\": \"Falkland Islands (Malvinas)\",\"target\": \"RILM\", \"value\": 1.0},\n",
      "{\"source\": \"Faroe Islands\",\"target\": \"RILM\", \"value\": 19.0},\n",
      "{\"source\": \"Fiji\",\"target\": \"RILM\", \"value\": 4.0},\n",
      "{\"source\": \"Finland\",\"target\": \"RILM\", \"value\": 4324.0},\n",
      "{\"source\": \"France\",\"target\": \"RILM\", \"value\": 47814.0},\n",
      "{\"source\": \"French Guiana\",\"target\": \"RILM\", \"value\": 3.0},\n",
      "{\"source\": \"French Polynesia\",\"target\": \"RILM\", \"value\": 1.0},\n",
      "{\"source\": \"Gabon\",\"target\": \"RILM\", \"value\": 9.0},\n",
      "{\"source\": \"Georgia\",\"target\": \"RILM\", \"value\": 200.0},\n",
      "{\"source\": \"Germany\",\"target\": \"RILM\", \"value\": 175530.0},\n",
      "{\"source\": \"Ghana\",\"target\": \"RILM\", \"value\": 55.0},\n",
      "{\"source\": \"Greece\",\"target\": \"RILM\", \"value\": 3248.0},\n",
      "{\"source\": \"Greenland\",\"target\": \"RILM\", \"value\": 4.0},\n",
      "{\"source\": \"Grenada\",\"target\": \"RILM\", \"value\": 1.0},\n",
      "{\"source\": \"Guadeloupe\",\"target\": \"RILM\", \"value\": 4.0},\n",
      "{\"source\": \"Guatemala\",\"target\": \"RILM\", \"value\": 194.0},\n",
      "{\"source\": \"Guyana\",\"target\": \"RILM\", \"value\": 1.0},\n",
      "{\"source\": \"Haiti\",\"target\": \"RILM\", \"value\": 9.0},\n",
      "{\"source\": \"Holy See (Vatican City)\",\"target\": \"RILM\", \"value\": 86.0},\n",
      "{\"source\": \"Honduras\",\"target\": \"RILM\", \"value\": 6.0},\n",
      "{\"source\": \"Hong Kong\",\"target\": \"RILM\", \"value\": 562.0},\n",
      "{\"source\": \"Hungary\",\"target\": \"RILM\", \"value\": 11834.0},\n",
      "{\"source\": \"Iceland\",\"target\": \"RILM\", \"value\": 255.0},\n",
      "{\"source\": \"India\",\"target\": \"RILM\", \"value\": 10640.0},\n",
      "{\"source\": \"Indonesia\",\"target\": \"RILM\", \"value\": 52.0},\n",
      "{\"source\": \"Iran\",\"target\": \"RILM\", \"value\": 211.0},\n",
      "{\"source\": \"Iraq\",\"target\": \"RILM\", \"value\": 6.0},\n",
      "{\"source\": \"Ireland\",\"target\": \"RILM\", \"value\": 2024.0},\n",
      "{\"source\": \"Israel\",\"target\": \"RILM\", \"value\": 1761.0},\n",
      "{\"source\": \"Italy\",\"target\": \"RILM\", \"value\": 41730.0},\n",
      "{\"source\": \"Jamaica\",\"target\": \"RILM\", \"value\": 124.0},\n",
      "{\"source\": \"Japan\",\"target\": \"RILM\", \"value\": 12277.0},\n",
      "{\"source\": \"Jordan\",\"target\": \"RILM\", \"value\": 4.0},\n",
      "{\"source\": \"Kazakhstan\",\"target\": \"RILM\", \"value\": 233.0},\n",
      "{\"source\": \"Kenya\",\"target\": \"RILM\", \"value\": 82.0},\n",
      "{\"source\": \"Korea\",\"target\": \"RILM\", \"value\": 25.0},\n",
      "{\"source\": \"Korea, Democratic People's Republic of\",\"target\": \"RILM\", \"value\": 25.0},\n",
      "{\"source\": \"Korea, Republic of\",\"target\": \"RILM\", \"value\": 4618.0},\n",
      "{\"source\": \"Kosovo\",\"target\": \"RILM\", \"value\": 6.0},\n",
      "{\"source\": \"Kuwait\",\"target\": \"RILM\", \"value\": 3.0},\n",
      "{\"source\": \"Kyrgyzstan\",\"target\": \"RILM\", \"value\": 13.0},\n",
      "{\"source\": \"Lao\",\"target\": \"RILM\", \"value\": 20.0},\n",
      "{\"source\": \"Lao People's Democratic Republic\",\"target\": \"RILM\", \"value\": 20.0},\n",
      "{\"source\": \"Latvia\",\"target\": \"RILM\", \"value\": 604.0},\n",
      "{\"source\": \"Lebanon\",\"target\": \"RILM\", \"value\": 210.0},\n",
      "{\"source\": \"Lesotho\",\"target\": \"RILM\", \"value\": 1.0},\n",
      "{\"source\": \"Liberia\",\"target\": \"RILM\", \"value\": 4.0},\n",
      "{\"source\": \"Libyan Arab Jamahiriya\",\"target\": \"RILM\", \"value\": 4.0},\n",
      "{\"source\": \"Liechtenstein\",\"target\": \"RILM\", \"value\": 84.0},\n",
      "{\"source\": \"Lithuania\",\"target\": \"RILM\", \"value\": 2123.0},\n",
      "{\"source\": \"Luxembourg\",\"target\": \"RILM\", \"value\": 14.0},\n",
      "{\"source\": \"Macau\",\"target\": \"RILM\", \"value\": 3.0},\n",
      "{\"source\": \"Macedonia\",\"target\": \"RILM\", \"value\": 1379.0},\n",
      "{\"source\": \"Madagascar\",\"target\": \"RILM\", \"value\": 2.0},\n",
      "{\"source\": \"Malawi\",\"target\": \"RILM\", \"value\": 4.0},\n",
      "{\"source\": \"Malaysia\",\"target\": \"RILM\", \"value\": 299.0},\n",
      "{\"source\": \"Malta\",\"target\": \"RILM\", \"value\": 99.0},\n",
      "{\"source\": \"Marshall Islands\",\"target\": \"RILM\", \"value\": 1.0},\n",
      "{\"source\": \"Martinique\",\"target\": \"RILM\", \"value\": 2.0},\n",
      "{\"source\": \"Mexico\",\"target\": \"RILM\", \"value\": 2317.0},\n",
      "{\"source\": \"Moldova\",\"target\": \"RILM\", \"value\": 40.0},\n",
      "{\"source\": \"Monaco\",\"target\": \"RILM\", \"value\": 63.0},\n",
      "{\"source\": \"Mongolia\",\"target\": \"RILM\", \"value\": 1.0},\n",
      "{\"source\": \"Montenegro\",\"target\": \"RILM\", \"value\": 280.0},\n",
      "{\"source\": \"Montserrat\",\"target\": \"RILM\", \"value\": 1.0},\n",
      "{\"source\": \"Morocco\",\"target\": \"RILM\", \"value\": 6.0},\n",
      "{\"source\": \"Mozambique\",\"target\": \"RILM\", \"value\": 1.0},\n",
      "{\"source\": \"Namibia\",\"target\": \"RILM\", \"value\": 7.0},\n",
      "{\"source\": \"Nepal\",\"target\": \"RILM\", \"value\": 12.0},\n",
      "{\"source\": \"Netherlands\",\"target\": \"RILM\", \"value\": 11913.0},\n",
      "{\"source\": \"New Caledonia\",\"target\": \"RILM\", \"value\": 6.0},\n",
      "{\"source\": \"New Zealand\",\"target\": \"RILM\", \"value\": 3080.0},\n",
      "{\"source\": \"Nicaragua\",\"target\": \"RILM\", \"value\": 6.0},\n",
      "{\"source\": \"Niger\",\"target\": \"RILM\", \"value\": 3.0},\n",
      "{\"source\": \"Nigeria\",\"target\": \"RILM\", \"value\": 96.0},\n",
      "{\"source\": \"Norway\",\"target\": \"RILM\", \"value\": 3104.0},\n",
      "{\"source\": \"Oman\",\"target\": \"RILM\", \"value\": 1.0},\n",
      "{\"source\": \"Pakistan\",\"target\": \"RILM\", \"value\": 11.0},\n",
      "{\"source\": \"Palestinian Territory, Occupied\",\"target\": \"RILM\", \"value\": 1.0},\n",
      "{\"source\": \"Panama\",\"target\": \"RILM\", \"value\": 22.0},\n",
      "{\"source\": \"Papua New Guinea\",\"target\": \"RILM\", \"value\": 143.0},\n",
      "{\"source\": \"Paraguay\",\"target\": \"RILM\", \"value\": 6.0},\n",
      "{\"source\": \"Peru\",\"target\": \"RILM\", \"value\": 90.0},\n",
      "{\"source\": \"Philippines\",\"target\": \"RILM\", \"value\": 87.0},\n",
      "{\"source\": \"Poland\",\"target\": \"RILM\", \"value\": 16199.0},\n",
      "{\"source\": \"Portugal\",\"target\": \"RILM\", \"value\": 1167.0},\n",
      "{\"source\": \"Puerto Rico\",\"target\": \"RILM\", \"value\": 141.0},\n",
      "{\"source\": \"Qatar\",\"target\": \"RILM\", \"value\": 8.0},\n",
      "{\"source\": \"Republic of Korea\",\"target\": \"RILM\", \"value\": 4622.0},\n",
      "{\"source\": \"Reunion Island\",\"target\": \"RILM\", \"value\": 3.0},\n",
      "{\"source\": \"Romania\",\"target\": \"RILM\", \"value\": 3491.0},\n",
      "{\"source\": \"Russia\",\"target\": \"RILM\", \"value\": 44316.0},\n",
      "{\"source\": \"Sao Tome and Principe\",\"target\": \"RILM\", \"value\": 1.0},\n",
      "{\"source\": \"Saudi Arabia\",\"target\": \"RILM\", \"value\": 10.0},\n",
      "{\"source\": \"Senegal\",\"target\": \"RILM\", \"value\": 2.0},\n",
      "{\"source\": \"Serbia\",\"target\": \"RILM\", \"value\": 6150.0},\n",
      "{\"source\": \"Seychelles\",\"target\": \"RILM\", \"value\": 1.0},\n",
      "{\"source\": \"Sierra Leone\",\"target\": \"RILM\", \"value\": 5.0},\n",
      "{\"source\": \"Singapore\",\"target\": \"RILM\", \"value\": 82.0},\n",
      "{\"source\": \"Sint Maarten\",\"target\": \"RILM\", \"value\": 1.0},\n",
      "{\"source\": \"Slovak Republic\",\"target\": \"RILM\", \"value\": 5253.0},\n",
      "{\"source\": \"Slovakia\",\"target\": \"RILM\", \"value\": 5253.0},\n",
      "{\"source\": \"Slovenia\",\"target\": \"RILM\", \"value\": 6453.0},\n",
      "{\"source\": \"South Africa\",\"target\": \"RILM\", \"value\": 4357.0},\n",
      "{\"source\": \"Spain\",\"target\": \"RILM\", \"value\": 30798.0},\n",
      "{\"source\": \"Sri Lanka\",\"target\": \"RILM\", \"value\": 13.0},\n",
      "{\"source\": \"Sudan\",\"target\": \"RILM\", \"value\": 1.0},\n",
      "{\"source\": \"Suriname\",\"target\": \"RILM\", \"value\": 4.0},\n",
      "{\"source\": \"Swaziland\",\"target\": \"RILM\", \"value\": 1.0},\n",
      "{\"source\": \"Sweden\",\"target\": \"RILM\", \"value\": 5471.0},\n",
      "{\"source\": \"Switzerland\",\"target\": \"RILM\", \"value\": 24846.0},\n",
      "{\"source\": \"Syria\",\"target\": \"RILM\", \"value\": 2.0},\n",
      "{\"source\": \"Taiwan\",\"target\": \"RILM\", \"value\": 676.0},\n",
      "{\"source\": \"Tajikistan\",\"target\": \"RILM\", \"value\": 65.0},\n",
      "{\"source\": \"Tanzania\",\"target\": \"RILM\", \"value\": 78.0},\n",
      "{\"source\": \"Thailand\",\"target\": \"RILM\", \"value\": 121.0},\n",
      "{\"source\": \"The former Yugoslav Republic of Macedonia\",\"target\": \"RILM\", \"value\": 1379.0},\n",
      "{\"source\": \"Togo\",\"target\": \"RILM\", \"value\": 1.0},\n",
      "{\"source\": \"Tongo\",\"target\": \"RILM\", \"value\": 1.0},\n",
      "{\"source\": \"Trinidad and Tobago\",\"target\": \"RILM\", \"value\": 8.0},\n",
      "{\"source\": \"Tunisia\",\"target\": \"RILM\", \"value\": 22.0},\n",
      "{\"source\": \"Turkey\",\"target\": \"RILM\", \"value\": 876.0},\n",
      "{\"source\": \"Turkmenistan\",\"target\": \"RILM\", \"value\": 18.0},\n",
      "{\"source\": \"Turks and Caicos Islands\",\"target\": \"RILM\", \"value\": 3.0},\n",
      "{\"source\": \"US Minor Outlying Islands\",\"target\": \"RILM\", \"value\": 2.0},\n",
      "{\"source\": \"Uganda\",\"target\": \"RILM\", \"value\": 47.0},\n",
      "{\"source\": \"Ukraine\",\"target\": \"RILM\", \"value\": 1119.0},\n",
      "{\"source\": \"United Arab Emirates\",\"target\": \"RILM\", \"value\": 2.0},\n",
      "{\"source\": \"United Kingdom\",\"target\": \"RILM\", \"value\": 110231.0},\n",
      "{\"source\": \"United Republic of Tanzania\",\"target\": \"RILM\", \"value\": 78.0},\n",
      "{\"source\": \"United States\",\"target\": \"RILM\", \"value\": 303951.0},\n",
      "{\"source\": \"Uruguay\",\"target\": \"RILM\", \"value\": 910.0},\n",
      "{\"source\": \"Uzbekistan\",\"target\": \"RILM\", \"value\": 145.0},\n",
      "{\"source\": \"Vatican\",\"target\": \"RILM\", \"value\": 86.0},\n",
      "{\"source\": \"Venezuela\",\"target\": \"RILM\", \"value\": 488.0},\n",
      "{\"source\": \"Viet Nam\",\"target\": \"RILM\", \"value\": 195.0},\n",
      "{\"source\": \"Vietnam\",\"target\": \"RILM\", \"value\": 195.0},\n",
      "{\"source\": \"Virgin Islands, US\",\"target\": \"RILM\", \"value\": 1.0},\n",
      "{\"source\": \"Zaire\",\"target\": \"RILM\", \"value\": 6.0},\n",
      "{\"source\": \"Zambia\",\"target\": \"RILM\", \"value\": 5.0},\n",
      "{\"source\": \"Zimbabwe\",\"target\": \"RILM\", \"value\": 12.0},\n"
     ]
    }
   ],
   "source": [
    "for i in range(300):\n",
    "    name = df.iloc[i,1]\n",
    "    value = df.iloc[i,2]\n",
    "    if value >= 1:\n",
    "        print('{\"source\": \"'+name+'\",\"target\": \"RILM\", \"value\": '+ str(value) +'},')"
   ]
  },
  {
   "cell_type": "code",
   "execution_count": null,
   "metadata": {},
   "outputs": [],
   "source": []
  },
  {
   "cell_type": "code",
   "execution_count": null,
   "metadata": {},
   "outputs": [],
   "source": []
  },
  {
   "cell_type": "code",
   "execution_count": null,
   "metadata": {},
   "outputs": [],
   "source": []
  },
  {
   "cell_type": "code",
   "execution_count": null,
   "metadata": {},
   "outputs": [],
   "source": []
  },
  {
   "cell_type": "code",
   "execution_count": null,
   "metadata": {},
   "outputs": [],
   "source": []
  },
  {
   "cell_type": "code",
   "execution_count": null,
   "metadata": {},
   "outputs": [],
   "source": []
  },
  {
   "cell_type": "code",
   "execution_count": null,
   "metadata": {},
   "outputs": [],
   "source": []
  },
  {
   "cell_type": "code",
   "execution_count": null,
   "metadata": {},
   "outputs": [],
   "source": []
  },
  {
   "cell_type": "code",
   "execution_count": null,
   "metadata": {},
   "outputs": [],
   "source": []
  },
  {
   "cell_type": "code",
   "execution_count": null,
   "metadata": {},
   "outputs": [],
   "source": []
  },
  {
   "cell_type": "code",
   "execution_count": null,
   "metadata": {},
   "outputs": [],
   "source": []
  },
  {
   "cell_type": "code",
   "execution_count": null,
   "metadata": {},
   "outputs": [],
   "source": []
  },
  {
   "cell_type": "code",
   "execution_count": null,
   "metadata": {},
   "outputs": [],
   "source": []
  },
  {
   "cell_type": "code",
   "execution_count": null,
   "metadata": {},
   "outputs": [],
   "source": []
  },
  {
   "cell_type": "code",
   "execution_count": null,
   "metadata": {},
   "outputs": [],
   "source": []
  },
  {
   "cell_type": "code",
   "execution_count": null,
   "metadata": {},
   "outputs": [],
   "source": []
  },
  {
   "cell_type": "code",
   "execution_count": null,
   "metadata": {},
   "outputs": [],
   "source": []
  },
  {
   "cell_type": "code",
   "execution_count": null,
   "metadata": {},
   "outputs": [],
   "source": []
  },
  {
   "cell_type": "code",
   "execution_count": null,
   "metadata": {},
   "outputs": [],
   "source": []
  },
  {
   "cell_type": "code",
   "execution_count": null,
   "metadata": {},
   "outputs": [],
   "source": []
  },
  {
   "cell_type": "code",
   "execution_count": null,
   "metadata": {},
   "outputs": [],
   "source": []
  },
  {
   "cell_type": "code",
   "execution_count": null,
   "metadata": {},
   "outputs": [],
   "source": []
  },
  {
   "cell_type": "code",
   "execution_count": null,
   "metadata": {},
   "outputs": [],
   "source": []
  }
 ],
 "metadata": {
  "kernelspec": {
   "display_name": "Python 3",
   "language": "python",
   "name": "python3"
  },
  "language_info": {
   "codemirror_mode": {
    "name": "ipython",
    "version": 3
   },
   "file_extension": ".py",
   "mimetype": "text/x-python",
   "name": "python",
   "nbconvert_exporter": "python",
   "pygments_lexer": "ipython3",
   "version": "3.7.4"
  }
 },
 "nbformat": 4,
 "nbformat_minor": 2
}
